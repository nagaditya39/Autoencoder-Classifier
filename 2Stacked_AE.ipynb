{
  "nbformat": 4,
  "nbformat_minor": 0,
  "metadata": {
    "colab": {
      "provenance": [],
      "authorship_tag": "ABX9TyPShRdB4ihxuk0PtKgRgBP8",
      "include_colab_link": true
    },
    "kernelspec": {
      "name": "python3",
      "display_name": "Python 3"
    },
    "language_info": {
      "name": "python"
    }
  },
  "cells": [
    {
      "cell_type": "markdown",
      "metadata": {
        "id": "view-in-github",
        "colab_type": "text"
      },
      "source": [
        "<a href=\"https://colab.research.google.com/github/nagaditya39/Autoencoder-Classifier/blob/main/2Stacked_AE.ipynb\" target=\"_parent\"><img src=\"https://colab.research.google.com/assets/colab-badge.svg\" alt=\"Open In Colab\"/></a>"
      ]
    },
    {
      "cell_type": "code",
      "source": [
        "import pandas as pd\n",
        "import numpy as np\n",
        "import tensorflow as tf\n",
        "import matplotlib.pyplot as plt\n",
        "import random\n",
        "from tensorflow.keras.layers import Dense, Input\n",
        "from tensorflow.keras.models import Model,Sequential"
      ],
      "metadata": {
        "id": "GqYvtdY3-cTc"
      },
      "execution_count": null,
      "outputs": []
    },
    {
      "cell_type": "code",
      "source": [
        "train,test = pd.read_csv('/content/mnist_train.csv'),pd.read_csv('/content/mnist_test.csv')\n",
        "\n",
        "x_train = train.drop('label',axis=1)\n",
        "y_train = train['label']\n",
        "\n",
        "x_test = test.drop('label',axis=1)\n",
        "y_test = test['label']\n",
        "x_test = x_test /255.0\n",
        "x_train = x_train /255.0\n",
        "print(x_train.shape)\n",
        "print(x_test.shape)\n",
        "autoencoder.summary()\n",
        "\n",
        "input_layer = Input(shape=784)\n",
        "\n",
        "encode1 = Dense(256, activation = 'relu')(input_layer)\n",
        "encode2 = Dense(128, activation ='relu')(encode1)\n",
        "encoded_output = Dense(64, activation ='relu')(encode2)\n",
        "decode1 = Dense(128, activation ='relu')(encoded_output)\n",
        "decode2 = Dense(256, activation ='relu')(decode1)\n",
        "outputLayer = Dense(784, activation = 'sigmoid')(decode2)\n",
        "\n",
        "autoencoder = Model(input_layer, outputLayer)\n",
        "\n",
        "autoencoder.compile(optimizer='adam', loss='mse')\n",
        "autoencoder.fit(x_train,x_train,epochs=10, batch_size=256,shuffle=True,validation_data=(x_test,x_test))\n"
      ],
      "metadata": {
        "id": "_-XnmujORlv8",
        "colab": {
          "base_uri": "https://localhost:8080/"
        },
        "outputId": "31cc11b3-c227-4667-a800-e58894bad5df"
      },
      "execution_count": null,
      "outputs": [
        {
          "output_type": "stream",
          "name": "stdout",
          "text": [
            "(60000, 784)\n",
            "(10000, 784)\n",
            "Model: \"model_12\"\n",
            "_________________________________________________________________\n",
            " Layer (type)                Output Shape              Param #   \n",
            "=================================================================\n",
            " input_11 (InputLayer)       [(None, 784)]             0         \n",
            "                                                                 \n",
            " dense_43 (Dense)            (None, 256)               200960    \n",
            "                                                                 \n",
            " dense_44 (Dense)            (None, 128)               32896     \n",
            "                                                                 \n",
            " dense_45 (Dense)            (None, 64)                8256      \n",
            "                                                                 \n",
            " dense_46 (Dense)            (None, 128)               8320      \n",
            "                                                                 \n",
            " dense_47 (Dense)            (None, 256)               33024     \n",
            "                                                                 \n",
            " dense_48 (Dense)            (None, 784)               201488    \n",
            "                                                                 \n",
            "=================================================================\n",
            "Total params: 484944 (1.85 MB)\n",
            "Trainable params: 484944 (1.85 MB)\n",
            "Non-trainable params: 0 (0.00 Byte)\n",
            "_________________________________________________________________\n",
            "Epoch 1/10\n",
            "235/235 [==============================] - 9s 33ms/step - loss: 0.0544 - val_loss: 0.0272\n",
            "Epoch 2/10\n",
            "235/235 [==============================] - 6s 25ms/step - loss: 0.0223 - val_loss: 0.0184\n",
            "Epoch 3/10\n",
            "235/235 [==============================] - 7s 31ms/step - loss: 0.0166 - val_loss: 0.0144\n",
            "Epoch 4/10\n",
            "235/235 [==============================] - 6s 24ms/step - loss: 0.0137 - val_loss: 0.0132\n",
            "Epoch 5/10\n",
            "235/235 [==============================] - 7s 31ms/step - loss: 0.0122 - val_loss: 0.0116\n",
            "Epoch 6/10\n",
            "235/235 [==============================] - 6s 24ms/step - loss: 0.0111 - val_loss: 0.0104\n",
            "Epoch 7/10\n",
            "235/235 [==============================] - 7s 28ms/step - loss: 0.0103 - val_loss: 0.0097\n",
            "Epoch 8/10\n",
            "235/235 [==============================] - 6s 25ms/step - loss: 0.0096 - val_loss: 0.0090\n",
            "Epoch 9/10\n",
            "235/235 [==============================] - 6s 24ms/step - loss: 0.0090 - val_loss: 0.0087\n",
            "Epoch 10/10\n",
            "235/235 [==============================] - 7s 30ms/step - loss: 0.0085 - val_loss: 0.0082\n"
          ]
        },
        {
          "output_type": "execute_result",
          "data": {
            "text/plain": [
              "<keras.src.callbacks.History at 0x7c8ff462b970>"
            ]
          },
          "metadata": {},
          "execution_count": 113
        }
      ]
    },
    {
      "cell_type": "code",
      "source": [
        "encoderModel = Model(input_layer,encoded_output)\n",
        "\n",
        "encodedFeaturesTrain = encoderModel.predict(x_train)\n",
        "encodedFeaturesTest = encoderModel.predict(x_test)"
      ],
      "metadata": {
        "colab": {
          "base_uri": "https://localhost:8080/"
        },
        "id": "5toBxT-r1joA",
        "outputId": "3b631ead-697e-428d-b358-d89aa5fadd0d"
      },
      "execution_count": null,
      "outputs": [
        {
          "output_type": "stream",
          "name": "stdout",
          "text": [
            "1875/1875 [==============================] - 4s 2ms/step\n",
            "313/313 [==============================] - 1s 3ms/step\n"
          ]
        }
      ]
    },
    {
      "cell_type": "code",
      "source": [
        "print(\"encoded train shape: \",encodedFeaturesTrain.shape)\n",
        "print(\"encoded test shape: \",encodedFeaturesTest.shape)\n"
      ],
      "metadata": {
        "colab": {
          "base_uri": "https://localhost:8080/"
        },
        "id": "MqaxGP3d13ny",
        "outputId": "04a29922-3f4f-4ebd-e90b-8a18c69c6e0b"
      },
      "execution_count": null,
      "outputs": [
        {
          "output_type": "stream",
          "name": "stdout",
          "text": [
            "encoded train shape:  (60000, 64)\n",
            "encoded test shape:  (10000, 64)\n"
          ]
        }
      ]
    },
    {
      "cell_type": "code",
      "source": [
        "classifier = Sequential([\n",
        "        Dense(64, activation ='relu'),\n",
        "        Dense(32, activation ='relu'),\n",
        "        Dense(10, activation ='softmax')\n",
        "    ])\n",
        "\n",
        "classifier.compile(optimizer='adam',loss='sparse_categorical_crossentropy',metrics=['accuracy'])"
      ],
      "metadata": {
        "id": "48gAWx7m4pqO"
      },
      "execution_count": null,
      "outputs": []
    },
    {
      "cell_type": "code",
      "source": [
        "classifier.fit(encodedFeaturesTrain,y_train, epochs=10, batch_size=256,shuffle=True,validation_data=(encodedFeaturesTest,y_test))\n"
      ],
      "metadata": {
        "colab": {
          "base_uri": "https://localhost:8080/"
        },
        "id": "z4QBPpdn_mmc",
        "outputId": "4baa0621-0efb-4057-ac70-e78e3c80cc3a"
      },
      "execution_count": null,
      "outputs": [
        {
          "output_type": "stream",
          "name": "stdout",
          "text": [
            "Epoch 1/10\n",
            "235/235 [==============================] - 2s 5ms/step - loss: 1.6739 - accuracy: 0.5572 - val_loss: 0.6198 - val_accuracy: 0.8115\n",
            "Epoch 2/10\n",
            "235/235 [==============================] - 1s 3ms/step - loss: 0.4915 - accuracy: 0.8511 - val_loss: 0.3800 - val_accuracy: 0.8844\n",
            "Epoch 3/10\n",
            "235/235 [==============================] - 1s 3ms/step - loss: 0.3600 - accuracy: 0.8928 - val_loss: 0.3153 - val_accuracy: 0.9009\n",
            "Epoch 4/10\n",
            "235/235 [==============================] - 1s 3ms/step - loss: 0.3059 - accuracy: 0.9076 - val_loss: 0.2727 - val_accuracy: 0.9171\n",
            "Epoch 5/10\n",
            "235/235 [==============================] - 1s 3ms/step - loss: 0.2731 - accuracy: 0.9193 - val_loss: 0.2502 - val_accuracy: 0.9221\n",
            "Epoch 6/10\n",
            "235/235 [==============================] - 1s 3ms/step - loss: 0.2466 - accuracy: 0.9260 - val_loss: 0.2229 - val_accuracy: 0.9326\n",
            "Epoch 7/10\n",
            "235/235 [==============================] - 1s 3ms/step - loss: 0.2225 - accuracy: 0.9330 - val_loss: 0.2144 - val_accuracy: 0.9355\n",
            "Epoch 8/10\n",
            "235/235 [==============================] - 1s 3ms/step - loss: 0.2059 - accuracy: 0.9377 - val_loss: 0.1957 - val_accuracy: 0.9394\n",
            "Epoch 9/10\n",
            "235/235 [==============================] - 1s 3ms/step - loss: 0.1919 - accuracy: 0.9422 - val_loss: 0.1816 - val_accuracy: 0.9444\n",
            "Epoch 10/10\n",
            "235/235 [==============================] - 1s 3ms/step - loss: 0.1786 - accuracy: 0.9463 - val_loss: 0.1758 - val_accuracy: 0.9451\n"
          ]
        },
        {
          "output_type": "execute_result",
          "data": {
            "text/plain": [
              "<keras.src.callbacks.History at 0x7c8fc42813c0>"
            ]
          },
          "metadata": {},
          "execution_count": 117
        }
      ]
    },
    {
      "cell_type": "code",
      "source": [
        "image_num =random.randint(0,784)\n",
        "rand_img = x_test.iloc[image_num].values.reshape(28,28)\n",
        "\n",
        "fig = plt.figure(figsize = (15,5))\n",
        "\n",
        "plt.subplot(1,3,1)\n",
        "plt.imshow(rand_img,cmap='gray')\n",
        "plt.title(\"Original \")\n",
        "\n",
        "decoded_img = autoencoder.predict(rand_img.reshape(1,-1))\n",
        "\n",
        "decoded_img = decoded_img.reshape(28,28)\n",
        "plt.subplot(1,3,2)\n",
        "plt.imshow(decoded_img,cmap='gray')\n",
        "plt.title(\"decoded image\")\n",
        "\n",
        "\n",
        "\n",
        "encoded_feature = encoderModel.predict(rand_img.reshape(1,-1))\n",
        "\n",
        "predict = np.argmax(classifier.predict(encoded_feature))\n",
        "classL= str(predict)\n",
        "plt.subplot(1,3,3)\n",
        "plt.imshow(decoded_img,cmap='gray')\n",
        "plt.title(\"Classified Label: \"+ classL)\n",
        "plt.show()\n",
        "\n",
        "\n"
      ],
      "metadata": {
        "colab": {
          "base_uri": "https://localhost:8080/",
          "height": 456
        },
        "id": "usxmXYVeI5ig",
        "outputId": "615af48e-1a4d-413d-e6fe-b6eaa84fae3c"
      },
      "execution_count": null,
      "outputs": [
        {
          "output_type": "stream",
          "name": "stdout",
          "text": [
            "1/1 [==============================] - 0s 20ms/step\n",
            "1/1 [==============================] - 0s 20ms/step\n",
            "1/1 [==============================] - 0s 22ms/step\n"
          ]
        },
        {
          "output_type": "display_data",
          "data": {
            "text/plain": [
              "<Figure size 1500x500 with 3 Axes>"
            ],
            "image/png": "[encoded data removed]"
          },
          "metadata": {}
        }
      ]
    },
    {
      "cell_type": "code",
      "source": [],
      "metadata": {
        "id": "4Jqh-g-QJHVC"
      },
      "execution_count": null,
      "outputs": []
    }
  ]
}